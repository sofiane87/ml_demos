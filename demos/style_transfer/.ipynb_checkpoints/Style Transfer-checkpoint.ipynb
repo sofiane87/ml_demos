{
 "cells": [
  {
   "cell_type": "markdown",
   "metadata": {},
   "source": [
    "# Relevant Resources\n",
    "- https://jkoushik.me/neural_style"
   ]
  },
  {
   "cell_type": "code",
   "execution_count": 1,
   "metadata": {
    "scrolled": true
   },
   "outputs": [],
   "source": [
    "from notebook.selector import ImageSelector\n",
    "from core import stylise, to_binary"
   ]
  },
  {
   "cell_type": "code",
   "execution_count": 2,
   "metadata": {},
   "outputs": [],
   "source": []
  },
  {
   "cell_type": "code",
   "execution_count": 3,
   "metadata": {},
   "outputs": [],
   "source": []
  },
  {
   "cell_type": "code",
   "execution_count": 4,
   "metadata": {},
   "outputs": [],
   "source": []
  },
  {
   "cell_type": "code",
   "execution_count": 8,
   "metadata": {
    "scrolled": false
   },
   "outputs": [
    {
     "data": {
      "application/vnd.jupyter.widget-view+json": {
       "model_id": "f63203f01fa9418fba81dc0db55be4c7",
       "version_major": 2,
       "version_minor": 0
      },
      "text/plain": [
       "VBox(children=(HBox(children=(VBox(children=(HBox(children=(Dropdown(index=2, options=('Mountain Landscape', '…"
      ]
     },
     "metadata": {},
     "output_type": "display_data"
    }
   ],
   "source": [
    "selectors = HBox(children=[images_widget.widget, styles_widget.widget], \n",
    "                 layout=Layout(justify_content=\"space-between\"))\n",
    "\n",
    "confirm_button = ToggleButton(\n",
    "                            value=False,\n",
    "                            description='Stylise',\n",
    "                            disabled=False,\n",
    "                            button_style='success',\n",
    "                            tooltip='Description',\n",
    "                            icon='check')\n",
    "\n",
    "confirm_box = HBox(children=[confirm_button], layout=Layout(justify_content='space-around'))\n",
    "\n",
    "def on_click(change):\n",
    "    stylised_img = stylise(image=images_widget.image, style=styles_widget.image)\n",
    "    stylised_widget = Image(\n",
    "            value=to_binary(stylised_img), \n",
    "            width=stylised_img.size[0],\n",
    "            height=stylised_img.size[1],\n",
    "            format='png')\n",
    "    stylised_box = HBox(children=[stylised_widget], layout=Layout(justify_content='space-around'))\n",
    "    full_display.children = [selectors, confirm_box, stylised_box]\n",
    "\n",
    "confirm_button.observe(on_click, 'value')\n",
    "full_display = VBox(children=[selectors, confirm_box])\n",
    "full_display"
   ]
  }
 ],
 "metadata": {
  "kernelspec": {
   "display_name": "Python 3",
   "language": "python",
   "name": "python3"
  },
  "language_info": {
   "codemirror_mode": {
    "name": "ipython",
    "version": 3
   },
   "file_extension": ".py",
   "mimetype": "text/x-python",
   "name": "python",
   "nbconvert_exporter": "python",
   "pygments_lexer": "ipython3",
   "version": "3.7.4"
  }
 },
 "nbformat": 4,
 "nbformat_minor": 2
}
