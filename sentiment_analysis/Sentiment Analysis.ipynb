{
 "cells": [
  {
   "cell_type": "code",
   "execution_count": 1,
   "metadata": {},
   "outputs": [],
   "source": [
    "import numpy as np\n",
    "import pandas as pd\n",
    "import tensorflow as tf\n",
    "import tensorflow_hub as hub\n",
    "import tensorflow_datasets as tfds\n",
    "\n",
    "from sklearn.model_selection import train_test_split"
   ]
  },
  {
   "cell_type": "code",
   "execution_count": 2,
   "metadata": {},
   "outputs": [
    {
     "data": {
      "text/html": [
       "<div>\n",
       "<style scoped>\n",
       "    .dataframe tbody tr th:only-of-type {\n",
       "        vertical-align: middle;\n",
       "    }\n",
       "\n",
       "    .dataframe tbody tr th {\n",
       "        vertical-align: top;\n",
       "    }\n",
       "\n",
       "    .dataframe thead th {\n",
       "        text-align: right;\n",
       "    }\n",
       "</style>\n",
       "<table border=\"1\" class=\"dataframe\">\n",
       "  <thead>\n",
       "    <tr style=\"text-align: right;\">\n",
       "      <th></th>\n",
       "      <th>class</th>\n",
       "      <th>tweet</th>\n",
       "    </tr>\n",
       "  </thead>\n",
       "  <tbody>\n",
       "    <tr>\n",
       "      <td>0</td>\n",
       "      <td>0</td>\n",
       "      <td>!!! RT @mayasolovely: As a woman you shouldn't...</td>\n",
       "    </tr>\n",
       "    <tr>\n",
       "      <td>1</td>\n",
       "      <td>1</td>\n",
       "      <td>!!!!! RT @mleew17: boy dats cold...tyga dwn ba...</td>\n",
       "    </tr>\n",
       "    <tr>\n",
       "      <td>2</td>\n",
       "      <td>1</td>\n",
       "      <td>!!!!!!! RT @UrKindOfBrand Dawg!!!! RT @80sbaby...</td>\n",
       "    </tr>\n",
       "    <tr>\n",
       "      <td>3</td>\n",
       "      <td>1</td>\n",
       "      <td>!!!!!!!!! RT @C_G_Anderson: @viva_based she lo...</td>\n",
       "    </tr>\n",
       "    <tr>\n",
       "      <td>4</td>\n",
       "      <td>1</td>\n",
       "      <td>!!!!!!!!!!!!! RT @ShenikaRoberts: The shit you...</td>\n",
       "    </tr>\n",
       "  </tbody>\n",
       "</table>\n",
       "</div>"
      ],
      "text/plain": [
       "   class                                              tweet\n",
       "0      0  !!! RT @mayasolovely: As a woman you shouldn't...\n",
       "1      1  !!!!! RT @mleew17: boy dats cold...tyga dwn ba...\n",
       "2      1  !!!!!!! RT @UrKindOfBrand Dawg!!!! RT @80sbaby...\n",
       "3      1  !!!!!!!!! RT @C_G_Anderson: @viva_based she lo...\n",
       "4      1  !!!!!!!!!!!!! RT @ShenikaRoberts: The shit you..."
      ]
     },
     "execution_count": 2,
     "metadata": {},
     "output_type": "execute_result"
    }
   ],
   "source": [
    "df = pd.read_csv('datasets/clean/davidson.csv')\n",
    "forward_map = dict(zip(df['class'].unique(), np.arange(3)))\n",
    "reverse_map = dict(zip(np.arange(3), df['class'].unique()))\n",
    "df['class'] = df['class'].map(forward_map)\n",
    "# df['class'] = (df['class'] > 0).astype(int)\n",
    "df.head()"
   ]
  },
  {
   "cell_type": "code",
   "execution_count": 3,
   "metadata": {},
   "outputs": [
    {
     "data": {
      "text/plain": [
       "1    19190\n",
       "0     4163\n",
       "2     1430\n",
       "Name: class, dtype: int64"
      ]
     },
     "execution_count": 3,
     "metadata": {},
     "output_type": "execute_result"
    }
   ],
   "source": [
    "df['class'].value_counts()"
   ]
  },
  {
   "cell_type": "code",
   "execution_count": 4,
   "metadata": {},
   "outputs": [],
   "source": [
    "def to_dataset(input_df):\n",
    "    return tf.data.Dataset.from_tensor_slices(\n",
    "        (\n",
    "            tf.cast(input_df['tweet'].values, tf.string),\n",
    "            tf.cast(input_df['class'].values, tf.int32)\n",
    "        )\n",
    "    )\n",
    "    "
   ]
  },
  {
   "cell_type": "code",
   "execution_count": 5,
   "metadata": {},
   "outputs": [],
   "source": [
    "\n",
    "train_df, test_df = train_test_split(df, test_size=0.2, stratify=df['class'])\n",
    "train_df, validation_df = train_test_split(train_df, test_size=0.1, stratify=train_df['class'])"
   ]
  },
  {
   "cell_type": "code",
   "execution_count": 6,
   "metadata": {},
   "outputs": [],
   "source": [
    "train_data, validation_data, test_data = to_dataset(train_df), to_dataset(validation_df), to_dataset(test_df)"
   ]
  },
  {
   "cell_type": "code",
   "execution_count": 7,
   "metadata": {},
   "outputs": [],
   "source": [
    "embedding = \"https://tfhub.dev/google/tf2-preview/gnews-swivel-20dim/1\"\n",
    "hub_layer = hub.KerasLayer(embedding, input_shape=[], \n",
    "                           dtype=tf.string, trainable=True)"
   ]
  },
  {
   "cell_type": "code",
   "execution_count": 8,
   "metadata": {},
   "outputs": [
    {
     "name": "stdout",
     "output_type": "stream",
     "text": [
      "Model: \"sequential\"\n",
      "_________________________________________________________________\n",
      "Layer (type)                 Output Shape              Param #   \n",
      "=================================================================\n",
      "keras_layer (KerasLayer)     (None, 20)                400020    \n",
      "_________________________________________________________________\n",
      "dense (Dense)                (None, 16)                336       \n",
      "_________________________________________________________________\n",
      "dropout (Dropout)            (None, 16)                0         \n",
      "_________________________________________________________________\n",
      "dense_1 (Dense)              (None, 3)                 51        \n",
      "=================================================================\n",
      "Total params: 400,407\n",
      "Trainable params: 400,407\n",
      "Non-trainable params: 0\n",
      "_________________________________________________________________\n"
     ]
    }
   ],
   "source": [
    "model = tf.keras.Sequential()\n",
    "model.add(hub_layer)\n",
    "model.add(tf.keras.layers.Dense(16, activation='relu'))\n",
    "model.add(tf.keras.layers.Dropout(.5))\n",
    "model.add(tf.keras.layers.Dense(3, activation='softmax'))\n",
    "\n",
    "model.summary()"
   ]
  },
  {
   "cell_type": "code",
   "execution_count": 9,
   "metadata": {},
   "outputs": [],
   "source": [
    "model.compile(optimizer='adam',\n",
    "              learning_rate=1e-5,\n",
    "              loss='categorical_crossentropy',\n",
    "              metrics=['accuracy'])"
   ]
  },
  {
   "cell_type": "code",
   "execution_count": 10,
   "metadata": {},
   "outputs": [
    {
     "name": "stdout",
     "output_type": "stream",
     "text": [
      "Epoch 1/20\n",
      "35/35 [==============================] - 1s 31ms/step - loss: 5.0428 - accuracy: 0.1381 - val_loss: 0.0000e+00 - val_accuracy: 0.0000e+00\n",
      "Epoch 2/20\n",
      "35/35 [==============================] - 0s 7ms/step - loss: 4.3318 - accuracy: 0.3069 - val_loss: 3.5955 - val_accuracy: 0.2063\n",
      "Epoch 3/20\n",
      "35/35 [==============================] - 0s 7ms/step - loss: 5.1859 - accuracy: 0.4350 - val_loss: 4.0888 - val_accuracy: 0.3505\n",
      "Epoch 4/20\n",
      "35/35 [==============================] - 0s 7ms/step - loss: 7.3103 - accuracy: 0.4868 - val_loss: 5.2607 - val_accuracy: 0.5083\n",
      "Epoch 5/20\n",
      "35/35 [==============================] - 0s 7ms/step - loss: 10.6512 - accuracy: 0.4943 - val_loss: 6.7174 - val_accuracy: 0.4085\n",
      "Epoch 6/20\n",
      "35/35 [==============================] - 0s 7ms/step - loss: 15.2386 - accuracy: 0.4574 - val_loss: 8.6438 - val_accuracy: 0.1594\n",
      "Epoch 7/20\n",
      "35/35 [==============================] - 0s 7ms/step - loss: 21.3766 - accuracy: 0.4544 - val_loss: 10.9512 - val_accuracy: 0.0746\n",
      "Epoch 8/20\n",
      "35/35 [==============================] - 0s 7ms/step - loss: 29.0106 - accuracy: 0.4519 - val_loss: 13.2910 - val_accuracy: 0.0469\n",
      "Epoch 9/20\n",
      "35/35 [==============================] - 0s 7ms/step - loss: 38.2661 - accuracy: 0.4431 - val_loss: 16.0934 - val_accuracy: 0.0303\n",
      "Epoch 10/20\n",
      "35/35 [==============================] - 0s 7ms/step - loss: 49.0179 - accuracy: 0.4494 - val_loss: 19.8607 - val_accuracy: 0.0096\n",
      "Epoch 11/20\n",
      "35/35 [==============================] - 0s 7ms/step - loss: 61.6223 - accuracy: 0.4442 - val_loss: 23.8035 - val_accuracy: 0.0071\n",
      "Epoch 12/20\n",
      "35/35 [==============================] - 0s 7ms/step - loss: 75.4113 - accuracy: 0.4426 - val_loss: 28.8081 - val_accuracy: 0.0035\n",
      "Epoch 13/20\n",
      "35/35 [==============================] - 0s 7ms/step - loss: 90.9195 - accuracy: 0.4410 - val_loss: 33.6672 - val_accuracy: 0.0025\n",
      "Epoch 14/20\n",
      "35/35 [==============================] - 0s 7ms/step - loss: 107.0757 - accuracy: 0.4380 - val_loss: 38.8458 - val_accuracy: 5.0429e-04\n",
      "Epoch 15/20\n",
      "35/35 [==============================] - 0s 7ms/step - loss: 125.0155 - accuracy: 0.4415 - val_loss: 44.2145 - val_accuracy: 0.0000e+00\n",
      "Epoch 16/20\n",
      "35/35 [==============================] - 0s 7ms/step - loss: 142.1411 - accuracy: 0.4343 - val_loss: 50.2694 - val_accuracy: 0.0000e+00\n",
      "Epoch 17/20\n",
      "35/35 [==============================] - 0s 7ms/step - loss: 163.5258 - accuracy: 0.4393 - val_loss: 57.3077 - val_accuracy: 0.0000e+00\n",
      "Epoch 18/20\n",
      "35/35 [==============================] - 0s 7ms/step - loss: 185.9713 - accuracy: 0.4397 - val_loss: 64.8345 - val_accuracy: 0.0000e+00\n",
      "Epoch 19/20\n",
      "35/35 [==============================] - 0s 7ms/step - loss: 208.0132 - accuracy: 0.4407 - val_loss: 73.7910 - val_accuracy: 0.0000e+00\n",
      "Epoch 20/20\n",
      "35/35 [==============================] - 0s 7ms/step - loss: 232.9777 - accuracy: 0.4377 - val_loss: 82.0647 - val_accuracy: 0.0000e+00\n"
     ]
    }
   ],
   "source": [
    "history = model.fit(train_data.shuffle(10000).batch(512),\n",
    "                    epochs=20,\n",
    "                    validation_data=validation_data.batch(512),\n",
    "                    verbose=1)"
   ]
  },
  {
   "cell_type": "code",
   "execution_count": 11,
   "metadata": {},
   "outputs": [
    {
     "name": "stdout",
     "output_type": "stream",
     "text": [
      "10/10 - 0s - loss: 82.1442 - accuracy: 4.0347e-04\n",
      "loss: 82.144\n",
      "accuracy: 0.000\n"
     ]
    }
   ],
   "source": [
    "results = model.evaluate(test_data.batch(512), verbose=2)\n",
    "for name, value in zip(model.metrics_names, results):\n",
    "    print(\"%s: %.3f\" % (name, value))"
   ]
  },
  {
   "cell_type": "code",
   "execution_count": 12,
   "metadata": {},
   "outputs": [],
   "source": [
    "pred = model.predict(test_data.batch(512))"
   ]
  },
  {
   "cell_type": "code",
   "execution_count": 13,
   "metadata": {},
   "outputs": [],
   "source": [
    "unique, counts = np.unique(np.round(pred), return_counts=True)"
   ]
  },
  {
   "cell_type": "code",
   "execution_count": 14,
   "metadata": {},
   "outputs": [],
   "source": [
    "def predict(input_str):\n",
    "    sample = tf.data.Dataset.from_tensor_slices((tf.cast([input_str], tf.string)))\n",
    "    pred = model.predict(sample.batch(1))\n",
    "    print(pred)\n",
    "    return reverse_map[int(np.argmax(pred.squeeze()))]"
   ]
  },
  {
   "cell_type": "code",
   "execution_count": 15,
   "metadata": {},
   "outputs": [
    {
     "name": "stdout",
     "output_type": "stream",
     "text": [
      "[[5.5353720e-02 2.1554046e-10 9.4464624e-01]]\n"
     ]
    },
    {
     "data": {
      "text/plain": [
       "'hate_speech'"
      ]
     },
     "execution_count": 15,
     "metadata": {},
     "output_type": "execute_result"
    }
   ],
   "source": [
    "predict(\"Asshole!\")"
   ]
  },
  {
   "cell_type": "code",
   "execution_count": null,
   "metadata": {},
   "outputs": [],
   "source": []
  }
 ],
 "metadata": {
  "kernelspec": {
   "display_name": "Python 3",
   "language": "python",
   "name": "python3"
  },
  "language_info": {
   "codemirror_mode": {
    "name": "ipython",
    "version": 3
   },
   "file_extension": ".py",
   "mimetype": "text/x-python",
   "name": "python",
   "nbconvert_exporter": "python",
   "pygments_lexer": "ipython3",
   "version": "3.7.4"
  }
 },
 "nbformat": 4,
 "nbformat_minor": 2
}
